{
 "cells": [
  {
   "cell_type": "markdown",
   "metadata": {},
   "source": [
    "# FIFA\n",
    "This model is in progress...\n",
    "\n",
    "## Description\n",
    "This is a simple feed forward network for fifa dataset\n",
    "    https://www.kaggle.com/karangadiya/fifa19"
   ]
  },
  {
   "cell_type": "markdown",
   "metadata": {},
   "source": [
    "# Imports"
   ]
  },
  {
   "cell_type": "code",
   "execution_count": 2,
   "metadata": {},
   "outputs": [],
   "source": [
    "%matplotlib inline\n",
    "import matplotlib.pyplot as plt\n",
    "import tensorflow as tf\n",
    "import numpy as np\n",
    "\n",
    "from models.mlp import FeedForwardNetwork\n",
    "from utils.loading import Loader\n",
    "from utils.trainer import Trainer\n",
    "\n",
    "tf.enable_eager_execution()"
   ]
  },
  {
   "cell_type": "markdown",
   "metadata": {},
   "source": [
    "# Constants"
   ]
  },
  {
   "cell_type": "code",
   "execution_count": 3,
   "metadata": {},
   "outputs": [],
   "source": [
    "EPOCHS = 20\n",
    "LEARNING_RATE = 0.001\n",
    "BATCH_SIZE = 64\n",
    "TRAIN_FRACTION = 0.8\n",
    "WEIGHT_DECAY = 0.02\n",
    "DROPOUT = 0.1"
   ]
  },
  {
   "cell_type": "code",
   "execution_count": 4,
   "metadata": {},
   "outputs": [],
   "source": [
    "def compute_accuracy(logits, targets):\n",
    "    losses = tf.losses.mean_squared_error(targets, logits)\n",
    "    return tf.reduce_mean(losses)\n",
    "\n",
    "def height_conversion(feet_and_inches):\n",
    "    feet, inches = feet_and_inches.split(\"'\")\n",
    "    return float(feet) * 30.48 + float(inches) * 2.54\n",
    "\n",
    "def weight_conversion(lbs):\n",
    "    lbs = lbs[:-3]\n",
    "    lbs = float(lbs)\n",
    "    return lbs * 0.45359237\n",
    "\n",
    "def compute_loss(targets, logits):\n",
    "    losses = tf.losses.huber_loss(targets, logits)\n",
    "    loss_value = tf.reduce_mean(losses)\n",
    "    return loss_value"
   ]
  },
  {
   "cell_type": "code",
   "execution_count": 5,
   "metadata": {},
   "outputs": [
    {
     "name": "stdout",
     "output_type": "stream",
     "text": [
      "['Unnamed: 0', 'ID', 'Name', 'Age', 'Photo', 'Nationality', 'Flag', 'Overall', 'Potential', 'Club', 'Club Logo', 'Value', 'Wage', 'Special', 'Preferred Foot', 'International Reputation', 'Weak Foot', 'Skill Moves', 'Work Rate', 'Body Type', 'Real Face', 'Position', 'Jersey Number', 'Joined', 'Loaned From', 'Contract Valid Until', 'Height', 'Weight', 'LS', 'ST', 'RS', 'LW', 'LF', 'CF', 'RF', 'RW', 'LAM', 'CAM', 'RAM', 'LM', 'LCM', 'CM', 'RCM', 'RM', 'LWB', 'LDM', 'CDM', 'RDM', 'RWB', 'LB', 'LCB', 'CB', 'RCB', 'RB', 'Crossing', 'Finishing', 'HeadingAccuracy', 'ShortPassing', 'Volleys', 'Dribbling', 'Curve', 'FKAccuracy', 'LongPassing', 'BallControl', 'Acceleration', 'SprintSpeed', 'Agility', 'Reactions', 'Balance', 'ShotPower', 'Jumping', 'Stamina', 'Strength', 'LongShots', 'Aggression', 'Interceptions', 'Positioning', 'Vision', 'Penalties', 'Composure', 'Marking', 'StandingTackle', 'SlidingTackle', 'GKDiving', 'GKHandling', 'GKKicking', 'GKPositioning', 'GKReflexes', 'Release Clause']\n",
      "         Unnamed: 0             ID           Age       Overall     Potential  \\\n",
      "count  18207.000000   18207.000000  18207.000000  18207.000000  18207.000000   \n",
      "mean    9103.000000  214298.338606     25.122206     66.238699     71.307299   \n",
      "std     5256.052511   29965.244204      4.669943      6.908930      6.136496   \n",
      "min        0.000000      16.000000     16.000000     46.000000     48.000000   \n",
      "25%     4551.500000  200315.500000     21.000000     62.000000     67.000000   \n",
      "50%     9103.000000  221759.000000     25.000000     66.000000     71.000000   \n",
      "75%    13654.500000  236529.500000     28.000000     71.000000     75.000000   \n",
      "max    18206.000000  246620.000000     45.000000     94.000000     95.000000   \n",
      "\n",
      "            Special  International Reputation     Weak Foot   Skill Moves  \\\n",
      "count  18207.000000              18159.000000  18159.000000  18159.000000   \n",
      "mean    1597.809908                  1.113222      2.947299      2.361308   \n",
      "std      272.586016                  0.394031      0.660456      0.756164   \n",
      "min      731.000000                  1.000000      1.000000      1.000000   \n",
      "25%     1457.000000                  1.000000      3.000000      2.000000   \n",
      "50%     1635.000000                  1.000000      3.000000      2.000000   \n",
      "75%     1787.000000                  1.000000      3.000000      3.000000   \n",
      "max     2346.000000                  5.000000      5.000000      5.000000   \n",
      "\n",
      "       Jersey Number  ...     Penalties     Composure       Marking  \\\n",
      "count   18147.000000  ...  18159.000000  18159.000000  18159.000000   \n",
      "mean       19.546096  ...     48.548598     58.648274     47.281623   \n",
      "std        15.947765  ...     15.704053     11.436133     19.904397   \n",
      "min         1.000000  ...      5.000000      3.000000      3.000000   \n",
      "25%         8.000000  ...     39.000000     51.000000     30.000000   \n",
      "50%        17.000000  ...     49.000000     60.000000     53.000000   \n",
      "75%        26.000000  ...     60.000000     67.000000     64.000000   \n",
      "max        99.000000  ...     92.000000     96.000000     94.000000   \n",
      "\n",
      "       StandingTackle  SlidingTackle      GKDiving    GKHandling  \\\n",
      "count    18159.000000   18159.000000  18159.000000  18159.000000   \n",
      "mean        47.697836      45.661435     16.616223     16.391596   \n",
      "std         21.664004      21.289135     17.695349     16.906900   \n",
      "min          2.000000       3.000000      1.000000      1.000000   \n",
      "25%         27.000000      24.000000      8.000000      8.000000   \n",
      "50%         55.000000      52.000000     11.000000     11.000000   \n",
      "75%         66.000000      64.000000     14.000000     14.000000   \n",
      "max         93.000000      91.000000     90.000000     92.000000   \n",
      "\n",
      "          GKKicking  GKPositioning    GKReflexes  \n",
      "count  18159.000000   18159.000000  18159.000000  \n",
      "mean      16.232061      16.388898     16.710887  \n",
      "std       16.502864      17.034669     17.955119  \n",
      "min        1.000000       1.000000      1.000000  \n",
      "25%        8.000000       8.000000      8.000000  \n",
      "50%       11.000000      11.000000     11.000000  \n",
      "75%       14.000000      14.000000     14.000000  \n",
      "max       91.000000      90.000000     94.000000  \n",
      "\n",
      "[8 rows x 44 columns]\n",
      "Size: (18207, 89)\n"
     ]
    },
    {
     "name": "stderr",
     "output_type": "stream",
     "text": [
      "/home/joakim/github/networks/utils/loading.py:21: SettingWithCopyWarning: \n",
      "A value is trying to be set on a copy of a slice from a DataFrame.\n",
      "Try using .loc[row_indexer,col_indexer] = value instead\n",
      "\n",
      "See the caveats in the documentation: http://pandas.pydata.org/pandas-docs/stable/indexing.html#indexing-view-versus-copy\n",
      "  self._data[column_name] = self._data[column_name].apply(func)\n"
     ]
    },
    {
     "name": "stdout",
     "output_type": "stream",
     "text": [
      "Epoch 00 - Train[Loss=60.971, Metric=3995.296], Test[Loss=56.392, Acc=3448.843]\n",
      "Epoch 01 - Train[Loss=43.349, Metric=2226.051], Test[Loss=26.802, Acc=972.447]\n",
      "Epoch 02 - Train[Loss=19.266, Metric=574.828], Test[Loss=14.885, Acc=373.104]\n",
      "Epoch 03 - Train[Loss=12.164, Metric=265.861], Test[Loss=10.237, Acc=192.112]\n",
      "Epoch 04 - Train[Loss=9.412, Metric=164.248], Test[Loss=8.959, Acc=148.828]\n",
      "Epoch 05 - Train[Loss=8.759, Metric=143.333], Test[Loss=8.659, Acc=139.571]\n",
      "Epoch 06 - Train[Loss=8.596, Metric=138.444], Test[Loss=8.562, Acc=136.498]\n",
      "Epoch 07 - Train[Loss=8.542, Metric=136.778], Test[Loss=8.519, Acc=135.118]\n",
      "Epoch 08 - Train[Loss=8.518, Metric=136.059], Test[Loss=8.497, Acc=134.391]\n",
      "Epoch 09 - Train[Loss=8.508, Metric=135.720], Test[Loss=8.485, Acc=134.024]\n",
      "Epoch 10 - Train[Loss=8.501, Metric=135.509], Test[Loss=8.477, Acc=133.779]\n",
      "Epoch 11 - Train[Loss=8.496, Metric=135.369], Test[Loss=8.472, Acc=133.624]\n",
      "Epoch 12 - Train[Loss=8.493, Metric=135.271], Test[Loss=8.468, Acc=133.505]\n",
      "Epoch 13 - Train[Loss=8.491, Metric=135.192], Test[Loss=8.465, Acc=133.404]\n",
      "Epoch 14 - Train[Loss=8.489, Metric=135.134], Test[Loss=8.462, Acc=133.332]\n",
      "Epoch 15 - Train[Loss=8.488, Metric=135.088], Test[Loss=8.460, Acc=133.290]\n",
      "Epoch 16 - Train[Loss=8.487, Metric=135.045], Test[Loss=8.459, Acc=133.228]\n",
      "Epoch 17 - Train[Loss=8.486, Metric=135.013], Test[Loss=8.457, Acc=133.186]\n",
      "Epoch 18 - Train[Loss=8.485, Metric=134.990], Test[Loss=8.456, Acc=133.154]\n",
      "Epoch 19 - Train[Loss=8.484, Metric=134.968], Test[Loss=8.455, Acc=133.120]\n"
     ]
    }
   ],
   "source": [
    "# Load data\n",
    "loader = Loader('datasets/fifa.csv')\n",
    "\n",
    "# Explore data\n",
    "dd = loader.get_data()\n",
    "print(list(dd))\n",
    "print(dd.describe())\n",
    "print(\"Size: {}\".format(dd.shape))\n",
    "\n",
    "# Create data split\n",
    "features = ['Age', 'Height', 'Weight']\n",
    "loader.apply('Height', height_conversion)\n",
    "loader.apply('Weight', weight_conversion)\n",
    "train_data, test_data = loader.get_data_split(features, TRAIN_FRACTION, target_name='Agility')\n",
    "\n",
    "# Create model and optimizer\n",
    "model = FeedForwardNetwork(units=[16, 16], use_sigmoid=False)\n",
    "optimizer = tf.train.RMSPropOptimizer(learning_rate=LEARNING_RATE)\n",
    "\n",
    "# Train\n",
    "trainer = Trainer(model, optimizer, train_data, test_data, compute_loss, compute_accuracy)\n",
    "train_accs, train_losses, test_accs, test_losses = trainer.train(EPOCHS, BATCH_SIZE)"
   ]
  },
  {
   "cell_type": "markdown",
   "metadata": {},
   "source": [
    "# Plot results"
   ]
  },
  {
   "cell_type": "code",
   "execution_count": 7,
   "metadata": {},
   "outputs": [
    {
     "data": {
      "image/png": "[encoded data removed]",
      "text/plain": [
       "<Figure size 432x288 with 2 Axes>"
      ]
     },
     "metadata": {
      "needs_background": "light"
     },
     "output_type": "display_data"
    }
   ],
   "source": [
    "_, (ax1, ax2) = plt.subplots(nrows=1, ncols=2)\n",
    "ax1.plot(train_accs)\n",
    "ax1.plot(test_accs)\n",
    "ax1.set_title(\"Metric\")\n",
    "ax1.legend(['Training', 'Testing'])\n",
    "ax2.plot(train_losses)\n",
    "ax2.plot(test_losses)\n",
    "ax2.set_title(\"Loss\")\n",
    "ax2.legend(['Training', 'Testing'])\n",
    "plt.show()"
   ]
  },
  {
   "cell_type": "code",
   "execution_count": null,
   "metadata": {},
   "outputs": [],
   "source": []
  }
 ],
 "metadata": {
  "kernelspec": {
   "display_name": "Python 3",
   "language": "python",
   "name": "python3"
  },
  "language_info": {
   "codemirror_mode": {
    "name": "ipython",
    "version": 3
   },
   "file_extension": ".py",
   "mimetype": "text/x-python",
   "name": "python",
   "nbconvert_exporter": "python",
   "pygments_lexer": "ipython3",
   "version": "3.6.8"
  }
 },
 "nbformat": 4,
 "nbformat_minor": 2
}
